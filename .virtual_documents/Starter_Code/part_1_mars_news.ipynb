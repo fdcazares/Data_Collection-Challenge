


# Import Splinter and BeautifulSoup
from splinter import Browser
from selenium import webdriver
from bs4 import BeautifulSoup


browser = Browser("chrome")





# Visit the Mars news site
url = 'https://static.bc-edx.com/data/web/mars_news/index.html'
browser.visit(url)





# Create a Beautiful Soup object
html = browser.html
soup = BeautifulSoup(html, "html.parser")


# Extract all the text elements
text_elems = soup.find_all("div", class_ = "list_text")





# Create an empty list to store the dictionaries
news_items = []


# Loop through the text elements
# Extract the title and preview text from the elements
# Store each title and preview pair in a dictionary
# Add the dictionary to the list
for div in text_elems:
    title = div.find("div",class_="content_title").text
    preview = div.find("div",class_="article_teaser_body").text
    news_item = {
        "Title":title,
        "Preview": preview
    }
    news_items.append(news_item)


# Print the list to confirm success
news_items


browser.quit()



